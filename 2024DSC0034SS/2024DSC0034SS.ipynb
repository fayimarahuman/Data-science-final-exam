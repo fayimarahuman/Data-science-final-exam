{
 "cells": [
  {
   "cell_type": "markdown",
   "id": "a9dd8469-706a-4185-97eb-74ca62fc00e1",
   "metadata": {},
   "source": [
    "## (a) What is a ’typical’ yearly income for these 4,365 people? (3 marks)\n",
    "# answer\n"
   ]
  },
  {
   "cell_type": "code",
   "execution_count": 2,
   "id": "80296d2f-432f-4143-a195-edff99c73e4d",
   "metadata": {},
   "outputs": [],
   "source": [
    "import numpy as np"
   ]
  },
  {
   "cell_type": "code",
   "execution_count": 3,
   "id": "225b4a78-d2bc-4b24-89a2-f8cd99f80a32",
   "metadata": {},
   "outputs": [],
   "source": [
    "import pandas as pd"
   ]
  },
  {
   "cell_type": "code",
   "execution_count": 4,
   "id": "0d32eca2-9d6b-4eec-bf19-9b6cd1bfb671",
   "metadata": {},
   "outputs": [],
   "source": [
    "import matplotlib.pyplot as plt"
   ]
  },
  {
   "cell_type": "code",
   "execution_count": 5,
   "id": "a49dbb8b-4f0a-474d-bec6-f872f51409ed",
   "metadata": {},
   "outputs": [],
   "source": [
    "import seaborn as sns"
   ]
  },
  {
   "cell_type": "code",
   "execution_count": 6,
   "id": "12c4dced-cc83-4f31-adcd-ff0c38fe84b1",
   "metadata": {},
   "outputs": [
    {
     "name": "stdout",
     "output_type": "stream",
     "text": [
      "      Age     Sex           Marital_status  Number_of_children  Family_size  \\\n",
      "0      30    Male  Married, spouse present                   2            4   \n",
      "1      28  Female  Married, spouse present     1 child present            3   \n",
      "2      34    Male  Married, spouse present     1 child present            3   \n",
      "3      58  Female   Married, spouse absent     1 child present            2   \n",
      "4      39    Male     Never married/single  0 children present            1   \n",
      "...   ...     ...                      ...                 ...          ...   \n",
      "4360   67    Male  Married, spouse present  0 children present            2   \n",
      "4361   48    Male  Married, spouse present                   4            6   \n",
      "4362   33    Male   Married, spouse absent  0 children present            1   \n",
      "4363   22  Female     Never married/single  0 children present            2   \n",
      "4364   49  Female  Married, spouse present                   2            4   \n",
      "\n",
      "                    Education-degree_recode  \\\n",
      "0         Masterâ€™s or professional degree   \n",
      "1         Masterâ€™s or professional degree   \n",
      "2                       Bachelorâ€™s degree   \n",
      "3     1 or more years of college, no degree   \n",
      "4                       Bachelorâ€™s degree   \n",
      "...                                     ...   \n",
      "4360                    Bachelorâ€™s degree   \n",
      "4361                   Associateâ€™s degree   \n",
      "4362                   Associateâ€™s degree   \n",
      "4363  1 or more years of college, no degree   \n",
      "4364      Masterâ€™s or professional degree   \n",
      "\n",
      "                  Education-degree_recode 2  \\\n",
      "0             Master or professional degree   \n",
      "1             Master or professional degree   \n",
      "2                           Bachelor degree   \n",
      "3     1 or more years of college, no degree   \n",
      "4                           Bachelor degree   \n",
      "...                                     ...   \n",
      "4360                        Bachelor degree   \n",
      "4361                       Associate degree   \n",
      "4362                       Associate degree   \n",
      "4363  1 or more years of college, no degree   \n",
      "4364          Master or professional degree   \n",
      "\n",
      "                                  Education Race_ethnicity-multi_recode  \\\n",
      "0      Master or PhD or professional degree          Non-Hispanic White   \n",
      "1      Master or PhD or professional degree          Non-Hispanic White   \n",
      "2              Associate or Bachelor degree          Non-Hispanic White   \n",
      "3     1 or more years of college, no degree          Non-Hispanic White   \n",
      "4              Associate or Bachelor degree          Non-Hispanic White   \n",
      "...                                     ...                         ...   \n",
      "4360           Associate or Bachelor degree          Non-Hispanic White   \n",
      "4361           Associate or Bachelor degree          Non-Hispanic White   \n",
      "4362           Associate or Bachelor degree          Non-Hispanic Black   \n",
      "4363  1 or more years of college, no degree          Non-Hispanic White   \n",
      "4364   Master or PhD or professional degree          Non-Hispanic White   \n",
      "\n",
      "      Immigrate-year                          Birthplace_recode  \\\n",
      "0                  0  U.S. state, territory, or outlying region   \n",
      "1                  0  U.S. state, territory, or outlying region   \n",
      "2                  0  U.S. state, territory, or outlying region   \n",
      "3                  0  U.S. state, territory, or outlying region   \n",
      "4                  0  U.S. state, territory, or outlying region   \n",
      "...              ...                                        ...   \n",
      "4360               0  U.S. state, territory, or outlying region   \n",
      "4361               0  U.S. state, territory, or outlying region   \n",
      "4362            2017                                     Africa   \n",
      "4363               0  U.S. state, territory, or outlying region   \n",
      "4364               0  U.S. state, territory, or outlying region   \n",
      "\n",
      "                Speaks_English Employment_status  Income-wages Region_recode  \\\n",
      "0     Yes, speaks only English          Employed         63000         South   \n",
      "1     Yes, speaks only English          Employed         46000         South   \n",
      "2     Yes, speaks only English          Employed         45000         South   \n",
      "3     Yes, speaks only English          Employed         55000         South   \n",
      "4     Yes, speaks only English          Employed         12000         South   \n",
      "...                        ...               ...           ...           ...   \n",
      "4360  Yes, speaks only English          Employed         40000       Midwest   \n",
      "4361  Yes, speaks only English          Employed         65000       Midwest   \n",
      "4362     Yes, speaks very well          Employed         45000       Midwest   \n",
      "4363  Yes, speaks only English          Employed           500       Midwest   \n",
      "4364  Yes, speaks only English          Employed        498000       Midwest   \n",
      "\n",
      "     Region-division_recode       Moved  Year         state  \n",
      "0        East South Central  Same house  2020     Tennessee  \n",
      "1        East South Central  Same house  2020     Tennessee  \n",
      "2        East South Central  Same house  2020     Tennessee  \n",
      "3        East South Central  Same house  2020     Tennessee  \n",
      "4        East South Central  Same house  2020     Tennessee  \n",
      "...                     ...         ...   ...           ...  \n",
      "4360     West North Central  Same house  2020  North Dakota  \n",
      "4361     West North Central  Same house  2020  North Dakota  \n",
      "4362     West North Central  Same house  2020  North Dakota  \n",
      "4363     West North Central  Same house  2020  North Dakota  \n",
      "4364     West North Central  Same house  2020  North Dakota  \n",
      "\n",
      "[4365 rows x 19 columns]\n"
     ]
    }
   ],
   "source": [
    "#got some  idea from your variable variability notes, asked google for the meaning of the question most especially the meaning of typical\n",
    "data=pd.read_excel('Wages 2020Census cleaned.xlsx') \n",
    "print(data)"
   ]
  },
  {
   "cell_type": "code",
   "execution_count": 7,
   "id": "af522aef-c813-41f6-8d67-f4c3ab2b3ec8",
   "metadata": {},
   "outputs": [
    {
     "data": {
      "text/html": [
       "<div>\n",
       "<style scoped>\n",
       "    .dataframe tbody tr th:only-of-type {\n",
       "        vertical-align: middle;\n",
       "    }\n",
       "\n",
       "    .dataframe tbody tr th {\n",
       "        vertical-align: top;\n",
       "    }\n",
       "\n",
       "    .dataframe thead th {\n",
       "        text-align: right;\n",
       "    }\n",
       "</style>\n",
       "<table border=\"1\" class=\"dataframe\">\n",
       "  <thead>\n",
       "    <tr style=\"text-align: right;\">\n",
       "      <th></th>\n",
       "      <th>Age</th>\n",
       "      <th>Sex</th>\n",
       "      <th>Marital_status</th>\n",
       "      <th>Number_of_children</th>\n",
       "      <th>Family_size</th>\n",
       "      <th>Education-degree_recode</th>\n",
       "      <th>Education-degree_recode 2</th>\n",
       "      <th>Education</th>\n",
       "      <th>Race_ethnicity-multi_recode</th>\n",
       "      <th>Immigrate-year</th>\n",
       "      <th>Birthplace_recode</th>\n",
       "      <th>Speaks_English</th>\n",
       "      <th>Employment_status</th>\n",
       "      <th>Income-wages</th>\n",
       "      <th>Region_recode</th>\n",
       "      <th>Region-division_recode</th>\n",
       "      <th>Moved</th>\n",
       "      <th>Year</th>\n",
       "      <th>state</th>\n",
       "    </tr>\n",
       "  </thead>\n",
       "  <tbody>\n",
       "    <tr>\n",
       "      <th>0</th>\n",
       "      <td>30</td>\n",
       "      <td>Male</td>\n",
       "      <td>Married, spouse present</td>\n",
       "      <td>2</td>\n",
       "      <td>4</td>\n",
       "      <td>Masterâ€™s or professional degree</td>\n",
       "      <td>Master or professional degree</td>\n",
       "      <td>Master or PhD or professional degree</td>\n",
       "      <td>Non-Hispanic White</td>\n",
       "      <td>0</td>\n",
       "      <td>U.S. state, territory, or outlying region</td>\n",
       "      <td>Yes, speaks only English</td>\n",
       "      <td>Employed</td>\n",
       "      <td>63000</td>\n",
       "      <td>South</td>\n",
       "      <td>East South Central</td>\n",
       "      <td>Same house</td>\n",
       "      <td>2020</td>\n",
       "      <td>Tennessee</td>\n",
       "    </tr>\n",
       "    <tr>\n",
       "      <th>1</th>\n",
       "      <td>28</td>\n",
       "      <td>Female</td>\n",
       "      <td>Married, spouse present</td>\n",
       "      <td>1 child present</td>\n",
       "      <td>3</td>\n",
       "      <td>Masterâ€™s or professional degree</td>\n",
       "      <td>Master or professional degree</td>\n",
       "      <td>Master or PhD or professional degree</td>\n",
       "      <td>Non-Hispanic White</td>\n",
       "      <td>0</td>\n",
       "      <td>U.S. state, territory, or outlying region</td>\n",
       "      <td>Yes, speaks only English</td>\n",
       "      <td>Employed</td>\n",
       "      <td>46000</td>\n",
       "      <td>South</td>\n",
       "      <td>East South Central</td>\n",
       "      <td>Same house</td>\n",
       "      <td>2020</td>\n",
       "      <td>Tennessee</td>\n",
       "    </tr>\n",
       "    <tr>\n",
       "      <th>2</th>\n",
       "      <td>34</td>\n",
       "      <td>Male</td>\n",
       "      <td>Married, spouse present</td>\n",
       "      <td>1 child present</td>\n",
       "      <td>3</td>\n",
       "      <td>Bachelorâ€™s degree</td>\n",
       "      <td>Bachelor degree</td>\n",
       "      <td>Associate or Bachelor degree</td>\n",
       "      <td>Non-Hispanic White</td>\n",
       "      <td>0</td>\n",
       "      <td>U.S. state, territory, or outlying region</td>\n",
       "      <td>Yes, speaks only English</td>\n",
       "      <td>Employed</td>\n",
       "      <td>45000</td>\n",
       "      <td>South</td>\n",
       "      <td>East South Central</td>\n",
       "      <td>Same house</td>\n",
       "      <td>2020</td>\n",
       "      <td>Tennessee</td>\n",
       "    </tr>\n",
       "    <tr>\n",
       "      <th>3</th>\n",
       "      <td>58</td>\n",
       "      <td>Female</td>\n",
       "      <td>Married, spouse absent</td>\n",
       "      <td>1 child present</td>\n",
       "      <td>2</td>\n",
       "      <td>1 or more years of college, no degree</td>\n",
       "      <td>1 or more years of college, no degree</td>\n",
       "      <td>1 or more years of college, no degree</td>\n",
       "      <td>Non-Hispanic White</td>\n",
       "      <td>0</td>\n",
       "      <td>U.S. state, territory, or outlying region</td>\n",
       "      <td>Yes, speaks only English</td>\n",
       "      <td>Employed</td>\n",
       "      <td>55000</td>\n",
       "      <td>South</td>\n",
       "      <td>East South Central</td>\n",
       "      <td>Same house</td>\n",
       "      <td>2020</td>\n",
       "      <td>Tennessee</td>\n",
       "    </tr>\n",
       "    <tr>\n",
       "      <th>4</th>\n",
       "      <td>39</td>\n",
       "      <td>Male</td>\n",
       "      <td>Never married/single</td>\n",
       "      <td>0 children present</td>\n",
       "      <td>1</td>\n",
       "      <td>Bachelorâ€™s degree</td>\n",
       "      <td>Bachelor degree</td>\n",
       "      <td>Associate or Bachelor degree</td>\n",
       "      <td>Non-Hispanic White</td>\n",
       "      <td>0</td>\n",
       "      <td>U.S. state, territory, or outlying region</td>\n",
       "      <td>Yes, speaks only English</td>\n",
       "      <td>Employed</td>\n",
       "      <td>12000</td>\n",
       "      <td>South</td>\n",
       "      <td>East South Central</td>\n",
       "      <td>Same house</td>\n",
       "      <td>2020</td>\n",
       "      <td>Tennessee</td>\n",
       "    </tr>\n",
       "  </tbody>\n",
       "</table>\n",
       "</div>"
      ],
      "text/plain": [
       "   Age     Sex           Marital_status  Number_of_children  Family_size  \\\n",
       "0   30    Male  Married, spouse present                   2            4   \n",
       "1   28  Female  Married, spouse present     1 child present            3   \n",
       "2   34    Male  Married, spouse present     1 child present            3   \n",
       "3   58  Female   Married, spouse absent     1 child present            2   \n",
       "4   39    Male     Never married/single  0 children present            1   \n",
       "\n",
       "                 Education-degree_recode  \\\n",
       "0      Masterâ€™s or professional degree   \n",
       "1      Masterâ€™s or professional degree   \n",
       "2                    Bachelorâ€™s degree   \n",
       "3  1 or more years of college, no degree   \n",
       "4                    Bachelorâ€™s degree   \n",
       "\n",
       "               Education-degree_recode 2  \\\n",
       "0          Master or professional degree   \n",
       "1          Master or professional degree   \n",
       "2                        Bachelor degree   \n",
       "3  1 or more years of college, no degree   \n",
       "4                        Bachelor degree   \n",
       "\n",
       "                               Education Race_ethnicity-multi_recode  \\\n",
       "0   Master or PhD or professional degree          Non-Hispanic White   \n",
       "1   Master or PhD or professional degree          Non-Hispanic White   \n",
       "2           Associate or Bachelor degree          Non-Hispanic White   \n",
       "3  1 or more years of college, no degree          Non-Hispanic White   \n",
       "4           Associate or Bachelor degree          Non-Hispanic White   \n",
       "\n",
       "   Immigrate-year                          Birthplace_recode  \\\n",
       "0               0  U.S. state, territory, or outlying region   \n",
       "1               0  U.S. state, territory, or outlying region   \n",
       "2               0  U.S. state, territory, or outlying region   \n",
       "3               0  U.S. state, territory, or outlying region   \n",
       "4               0  U.S. state, territory, or outlying region   \n",
       "\n",
       "             Speaks_English Employment_status  Income-wages Region_recode  \\\n",
       "0  Yes, speaks only English          Employed         63000         South   \n",
       "1  Yes, speaks only English          Employed         46000         South   \n",
       "2  Yes, speaks only English          Employed         45000         South   \n",
       "3  Yes, speaks only English          Employed         55000         South   \n",
       "4  Yes, speaks only English          Employed         12000         South   \n",
       "\n",
       "  Region-division_recode       Moved  Year      state  \n",
       "0     East South Central  Same house  2020  Tennessee  \n",
       "1     East South Central  Same house  2020  Tennessee  \n",
       "2     East South Central  Same house  2020  Tennessee  \n",
       "3     East South Central  Same house  2020  Tennessee  \n",
       "4     East South Central  Same house  2020  Tennessee  "
      ]
     },
     "execution_count": 7,
     "metadata": {},
     "output_type": "execute_result"
    }
   ],
   "source": [
    "data.head()"
   ]
  },
  {
   "cell_type": "code",
   "execution_count": 8,
   "id": "8b7867a1-2320-42d4-94ff-b8d5bd31e085",
   "metadata": {},
   "outputs": [
    {
     "data": {
      "text/html": [
       "<div>\n",
       "<style scoped>\n",
       "    .dataframe tbody tr th:only-of-type {\n",
       "        vertical-align: middle;\n",
       "    }\n",
       "\n",
       "    .dataframe tbody tr th {\n",
       "        vertical-align: top;\n",
       "    }\n",
       "\n",
       "    .dataframe thead th {\n",
       "        text-align: right;\n",
       "    }\n",
       "</style>\n",
       "<table border=\"1\" class=\"dataframe\">\n",
       "  <thead>\n",
       "    <tr style=\"text-align: right;\">\n",
       "      <th></th>\n",
       "      <th>Age</th>\n",
       "      <th>Family_size</th>\n",
       "      <th>Immigrate-year</th>\n",
       "      <th>Income-wages</th>\n",
       "      <th>Year</th>\n",
       "    </tr>\n",
       "  </thead>\n",
       "  <tbody>\n",
       "    <tr>\n",
       "      <th>count</th>\n",
       "      <td>4365.000000</td>\n",
       "      <td>4365.000000</td>\n",
       "      <td>4365.000000</td>\n",
       "      <td>4365.000000</td>\n",
       "      <td>4365.0</td>\n",
       "    </tr>\n",
       "    <tr>\n",
       "      <th>mean</th>\n",
       "      <td>41.688889</td>\n",
       "      <td>2.964490</td>\n",
       "      <td>360.903551</td>\n",
       "      <td>58704.164948</td>\n",
       "      <td>2020.0</td>\n",
       "    </tr>\n",
       "    <tr>\n",
       "      <th>std</th>\n",
       "      <td>14.287954</td>\n",
       "      <td>1.603552</td>\n",
       "      <td>769.040850</td>\n",
       "      <td>68338.061435</td>\n",
       "      <td>0.0</td>\n",
       "    </tr>\n",
       "    <tr>\n",
       "      <th>min</th>\n",
       "      <td>16.000000</td>\n",
       "      <td>1.000000</td>\n",
       "      <td>0.000000</td>\n",
       "      <td>30.000000</td>\n",
       "      <td>2020.0</td>\n",
       "    </tr>\n",
       "    <tr>\n",
       "      <th>25%</th>\n",
       "      <td>30.000000</td>\n",
       "      <td>2.000000</td>\n",
       "      <td>0.000000</td>\n",
       "      <td>22000.000000</td>\n",
       "      <td>2020.0</td>\n",
       "    </tr>\n",
       "    <tr>\n",
       "      <th>50%</th>\n",
       "      <td>41.000000</td>\n",
       "      <td>3.000000</td>\n",
       "      <td>0.000000</td>\n",
       "      <td>41000.000000</td>\n",
       "      <td>2020.0</td>\n",
       "    </tr>\n",
       "    <tr>\n",
       "      <th>75%</th>\n",
       "      <td>53.000000</td>\n",
       "      <td>4.000000</td>\n",
       "      <td>0.000000</td>\n",
       "      <td>71000.000000</td>\n",
       "      <td>2020.0</td>\n",
       "    </tr>\n",
       "    <tr>\n",
       "      <th>max</th>\n",
       "      <td>87.000000</td>\n",
       "      <td>14.000000</td>\n",
       "      <td>2020.000000</td>\n",
       "      <td>661000.000000</td>\n",
       "      <td>2020.0</td>\n",
       "    </tr>\n",
       "  </tbody>\n",
       "</table>\n",
       "</div>"
      ],
      "text/plain": [
       "               Age  Family_size  Immigrate-year   Income-wages    Year\n",
       "count  4365.000000  4365.000000     4365.000000    4365.000000  4365.0\n",
       "mean     41.688889     2.964490      360.903551   58704.164948  2020.0\n",
       "std      14.287954     1.603552      769.040850   68338.061435     0.0\n",
       "min      16.000000     1.000000        0.000000      30.000000  2020.0\n",
       "25%      30.000000     2.000000        0.000000   22000.000000  2020.0\n",
       "50%      41.000000     3.000000        0.000000   41000.000000  2020.0\n",
       "75%      53.000000     4.000000        0.000000   71000.000000  2020.0\n",
       "max      87.000000    14.000000     2020.000000  661000.000000  2020.0"
      ]
     },
     "execution_count": 8,
     "metadata": {},
     "output_type": "execute_result"
    }
   ],
   "source": [
    "data.describe()"
   ]
  },
  {
   "cell_type": "code",
   "execution_count": 9,
   "id": "880d9807-7a2a-42d9-a5d3-7e33d8045e18",
   "metadata": {},
   "outputs": [
    {
     "data": {
      "text/plain": [
       "np.float64(58704.16494845361)"
      ]
     },
     "execution_count": 9,
     "metadata": {},
     "output_type": "execute_result"
    }
   ],
   "source": [
    "income_wages_mean=data['Income-wages'].mean()  #since  geting a 'typical'yearly income means getting the central tendency,\n",
    "income_wages_mean                              #have calculated the income mean to get its central tendency.have got \n",
    "                                                #this idea  from your class work teachings of how to get the mean \n",
    "                                                #and the meaning of typical yearly income from google"
   ]
  },
  {
   "cell_type": "markdown",
   "id": "d50d6e7c-a168-4b90-aff8-1a7c5039f474",
   "metadata": {},
   "source": [
    "# (b) Do the yearly incomes of these 4,365 people vary? How do you know? (2 marks)\n",
    "# answer\n"
   ]
  },
  {
   "cell_type": "code",
   "execution_count": 10,
   "id": "05b03afa-882c-4e78-aa94-a10a86aa39f1",
   "metadata": {},
   "outputs": [
    {
     "data": {
      "text/plain": [
       "np.float64(68338.0614351565)"
      ]
     },
     "execution_count": 10,
     "metadata": {},
     "output_type": "execute_result"
    }
   ],
   "source": [
    "#got some  idea from your variable variability notes, asked google for the meaning of the question\n",
    "income_wages_std=data['Income-wages'].std() \n",
    "income_wages_std \n"
   ]
  },
  {
   "cell_type": "code",
   "execution_count": 11,
   "id": "4524391a-951e-41da-a17f-760c30d7098b",
   "metadata": {},
   "outputs": [
    {
     "data": {
      "text/plain": [
       "49000.0"
      ]
     },
     "execution_count": 11,
     "metadata": {},
     "output_type": "execute_result"
    }
   ],
   "source": [
    "Q3=\t71000.000000\n",
    "Q1=22000.000000\n",
    "Interquartile_range = Q3-Q1\n",
    "Interquartile_range"
   ]
  },
  {
   "cell_type": "code",
   "execution_count": 12,
   "id": "61ba2ebb-be91-4553-9084-57361248221f",
   "metadata": {},
   "outputs": [],
   "source": [
    "# yes the yearly incomes of these 4365 people vary because the standand deviation and interquartie range is not equal to zero and they differ in\n",
    "#all obervation units"
   ]
  },
  {
   "cell_type": "markdown",
   "id": "02070fd4-ed9e-4e70-be84-db21d91eb8a2",
   "metadata": {},
   "source": [
    "# c) What would the values of the standard deviation and IQR be if there was no variability in\n",
    "   # yearly income for these 4,365 people? (5 marks)\n",
    "   # answers\n"
   ]
  },
  {
   "cell_type": "code",
   "execution_count": 13,
   "id": "57f6cba6-a37e-4031-9488-5c5e8ee40d9a",
   "metadata": {},
   "outputs": [
    {
     "name": "stdout",
     "output_type": "stream",
     "text": [
      " if there was no variability in yeary income the standard_deviation is 0 and IQR is 0\n"
     ]
    }
   ],
   "source": [
    "#got some  idea from your variable variability notes, asked google for the meaning of the question\n",
    "Standard_deviation = 0\n",
    "Interquartile_range = 0\n",
    "print(f\" if there was no variability in yeary income the standard_deviation is {Standard_deviation} and IQR is {Interquartile_range}\")"
   ]
  },
  {
   "cell_type": "markdown",
   "id": "eecd4a26-3162-4e3c-aeff-b2793a817a44",
   "metadata": {},
   "source": [
    "# d) What would the values of the mean, median, Q1, Q3, minimum and maximum yearly incomes\n",
    "# be if there was no variability? (5 marks)\n",
    "# answer"
   ]
  },
  {
   "cell_type": "code",
   "execution_count": 14,
   "id": "03ebaed2-7a93-4a84-be22-e73995d3da89",
   "metadata": {},
   "outputs": [
    {
     "data": {
      "text/plain": [
       "np.float64(58704.16494845361)"
      ]
     },
     "execution_count": 14,
     "metadata": {},
     "output_type": "execute_result"
    }
   ],
   "source": [
    "#got the idea from intoduction to pandas and class work\n",
    "income_wages_mean=data['Income-wages'].mean() \n",
    "income_wages_mean "
   ]
  },
  {
   "cell_type": "code",
   "execution_count": 15,
   "id": "6e2d9faf-4b4e-4a7a-ae4a-8751167af4ca",
   "metadata": {},
   "outputs": [
    {
     "data": {
      "text/plain": [
       "np.float64(41000.0)"
      ]
     },
     "execution_count": 15,
     "metadata": {},
     "output_type": "execute_result"
    }
   ],
   "source": [
    "income_wages_median=data['Income-wages'].median() \n",
    "income_wages_median "
   ]
  },
  {
   "cell_type": "code",
   "execution_count": 16,
   "id": "22a0c51b-f95f-431e-b85f-043adc777b8a",
   "metadata": {},
   "outputs": [
    {
     "data": {
      "text/plain": [
       "np.int64(661000)"
      ]
     },
     "execution_count": 16,
     "metadata": {},
     "output_type": "execute_result"
    }
   ],
   "source": [
    "income_wages_max=data['Income-wages'].max() \n",
    "income_wages_max"
   ]
  },
  {
   "cell_type": "code",
   "execution_count": 17,
   "id": "0d34f76b-86f0-49e4-b636-32da8b690a85",
   "metadata": {},
   "outputs": [
    {
     "data": {
      "text/plain": [
       "np.int64(30)"
      ]
     },
     "execution_count": 17,
     "metadata": {},
     "output_type": "execute_result"
    }
   ],
   "source": [
    "income_wages_min=data['Income-wages'].min() \n",
    "income_wages_min"
   ]
  },
  {
   "cell_type": "code",
   "execution_count": 18,
   "id": "cbe3043e-be25-4ecd-92ba-4f8ea6d602d8",
   "metadata": {},
   "outputs": [],
   "source": [
    " Q1_percentile = 22000.000000 #as  explored and observed in the dataset\n",
    "Q3_percentile = 71000.000000 # as explored and observed in the data set"
   ]
  },
  {
   "cell_type": "code",
   "execution_count": 19,
   "id": "ab288440-beee-42d0-9ae2-3d18e01a1cfb",
   "metadata": {},
   "outputs": [],
   "source": [
    "# if there was no variability,the mean, median,Q1,Q3,maximum,minimum, would be zero  but as i computed and observed \n",
    "#the values in the data set, there is variation."
   ]
  },
  {
   "cell_type": "markdown",
   "id": "96ff8876-a820-49bc-a80b-10bffc32d63e",
   "metadata": {},
   "source": [
    "# e) What do you think are some possible causes or reasons or potential sources of the variability in\n",
    "# the yearly incomes of these 4,365 people? (Hint: Perform bivariate analysis leveraging boxplots\n",
    "# between response variable and education level, region of the US. Provide an explanation of your\n",
    "# thinking with numerical support) (5 marks)\n",
    "# answer\n"
   ]
  },
  {
   "cell_type": "code",
   "execution_count": 20,
   "id": "5bb773e5-fdbe-4591-97ed-64180ce2768e",
   "metadata": {},
   "outputs": [
    {
     "data": {
      "text/plain": [
       "<Axes: title={'center': 'Income-wages'}, xlabel='Education-degree_recode'>"
      ]
     },
     "execution_count": 20,
     "metadata": {},
     "output_type": "execute_result"
    },
    {
     "data": {
      "image/png": "[encoded data removed]",
      "text/plain": [
       "<Figure size 640x480 with 1 Axes>"
      ]
     },
     "metadata": {},
     "output_type": "display_data"
    }
   ],
   "source": [
    "data.boxplot(column='Income-wages', by='Education-degree_recode')  ##from your notes \"introduction to pandas,boxplot\""
   ]
  },
  {
   "cell_type": "code",
   "execution_count": 21,
   "id": "d01fff96-1740-4b4a-936a-9e70e1545374",
   "metadata": {},
   "outputs": [],
   "source": [
    "#if am to consider comparing income wages by education-degree record using a boxplot, it shows that people with higher level of education\n",
    "# tend to earn more than those with less level of education"
   ]
  },
  {
   "cell_type": "markdown",
   "id": "7c3b5ddf-4f2e-4875-9946-b1b49ef99eaf",
   "metadata": {},
   "source": [
    "# 2. Exploratory Data Analysis (EDA)\n",
    " # (a) For each gender, which major has the highest total study hours per week?\n",
    " # answers\n"
   ]
  },
  {
   "cell_type": "code",
   "execution_count": 22,
   "id": "c246f14d-c261-4ed5-b2fb-cb43307e3e19",
   "metadata": {},
   "outputs": [
    {
     "data": {
      "text/html": [
       "<div>\n",
       "<style scoped>\n",
       "    .dataframe tbody tr th:only-of-type {\n",
       "        vertical-align: middle;\n",
       "    }\n",
       "\n",
       "    .dataframe tbody tr th {\n",
       "        vertical-align: top;\n",
       "    }\n",
       "\n",
       "    .dataframe thead th {\n",
       "        text-align: right;\n",
       "    }\n",
       "</style>\n",
       "<table border=\"1\" class=\"dataframe\">\n",
       "  <thead>\n",
       "    <tr style=\"text-align: right;\">\n",
       "      <th></th>\n",
       "      <th>StudentID</th>\n",
       "      <th>Gender</th>\n",
       "      <th>Age</th>\n",
       "      <th>StudyHoursPerWeek</th>\n",
       "      <th>AttendanceRate</th>\n",
       "      <th>GPA</th>\n",
       "      <th>Major</th>\n",
       "      <th>PartTimeJob</th>\n",
       "      <th>ExtraCurricularActivities</th>\n",
       "    </tr>\n",
       "  </thead>\n",
       "  <tbody>\n",
       "    <tr>\n",
       "      <th>0</th>\n",
       "      <td>1</td>\n",
       "      <td>Male</td>\n",
       "      <td>24</td>\n",
       "      <td>37</td>\n",
       "      <td>90.75</td>\n",
       "      <td>3.47</td>\n",
       "      <td>Arts</td>\n",
       "      <td>Yes</td>\n",
       "      <td>No</td>\n",
       "    </tr>\n",
       "    <tr>\n",
       "      <th>1</th>\n",
       "      <td>2</td>\n",
       "      <td>Female</td>\n",
       "      <td>22</td>\n",
       "      <td>37</td>\n",
       "      <td>74.90</td>\n",
       "      <td>2.32</td>\n",
       "      <td>Education</td>\n",
       "      <td>No</td>\n",
       "      <td>No</td>\n",
       "    </tr>\n",
       "    <tr>\n",
       "      <th>2</th>\n",
       "      <td>3</td>\n",
       "      <td>Male</td>\n",
       "      <td>22</td>\n",
       "      <td>10</td>\n",
       "      <td>53.36</td>\n",
       "      <td>2.38</td>\n",
       "      <td>Business</td>\n",
       "      <td>No</td>\n",
       "      <td>No</td>\n",
       "    </tr>\n",
       "    <tr>\n",
       "      <th>3</th>\n",
       "      <td>4</td>\n",
       "      <td>Male</td>\n",
       "      <td>24</td>\n",
       "      <td>10</td>\n",
       "      <td>70.26</td>\n",
       "      <td>3.46</td>\n",
       "      <td>Science</td>\n",
       "      <td>Yes</td>\n",
       "      <td>No</td>\n",
       "    </tr>\n",
       "    <tr>\n",
       "      <th>4</th>\n",
       "      <td>5</td>\n",
       "      <td>Male</td>\n",
       "      <td>18</td>\n",
       "      <td>19</td>\n",
       "      <td>74.87</td>\n",
       "      <td>2.31</td>\n",
       "      <td>Education</td>\n",
       "      <td>Yes</td>\n",
       "      <td>No</td>\n",
       "    </tr>\n",
       "    <tr>\n",
       "      <th>...</th>\n",
       "      <td>...</td>\n",
       "      <td>...</td>\n",
       "      <td>...</td>\n",
       "      <td>...</td>\n",
       "      <td>...</td>\n",
       "      <td>...</td>\n",
       "      <td>...</td>\n",
       "      <td>...</td>\n",
       "      <td>...</td>\n",
       "    </tr>\n",
       "    <tr>\n",
       "      <th>495</th>\n",
       "      <td>496</td>\n",
       "      <td>Male</td>\n",
       "      <td>22</td>\n",
       "      <td>37</td>\n",
       "      <td>76.61</td>\n",
       "      <td>2.97</td>\n",
       "      <td>Science</td>\n",
       "      <td>No</td>\n",
       "      <td>No</td>\n",
       "    </tr>\n",
       "    <tr>\n",
       "      <th>496</th>\n",
       "      <td>497</td>\n",
       "      <td>Male</td>\n",
       "      <td>23</td>\n",
       "      <td>11</td>\n",
       "      <td>56.29</td>\n",
       "      <td>3.20</td>\n",
       "      <td>Science</td>\n",
       "      <td>No</td>\n",
       "      <td>No</td>\n",
       "    </tr>\n",
       "    <tr>\n",
       "      <th>497</th>\n",
       "      <td>498</td>\n",
       "      <td>Female</td>\n",
       "      <td>20</td>\n",
       "      <td>6</td>\n",
       "      <td>56.64</td>\n",
       "      <td>3.20</td>\n",
       "      <td>Science</td>\n",
       "      <td>No</td>\n",
       "      <td>Yes</td>\n",
       "    </tr>\n",
       "    <tr>\n",
       "      <th>498</th>\n",
       "      <td>499</td>\n",
       "      <td>Male</td>\n",
       "      <td>22</td>\n",
       "      <td>18</td>\n",
       "      <td>57.18</td>\n",
       "      <td>2.05</td>\n",
       "      <td>Business</td>\n",
       "      <td>No</td>\n",
       "      <td>Yes</td>\n",
       "    </tr>\n",
       "    <tr>\n",
       "      <th>499</th>\n",
       "      <td>500</td>\n",
       "      <td>Female</td>\n",
       "      <td>24</td>\n",
       "      <td>21</td>\n",
       "      <td>96.99</td>\n",
       "      <td>2.64</td>\n",
       "      <td>Engineering</td>\n",
       "      <td>No</td>\n",
       "      <td>No</td>\n",
       "    </tr>\n",
       "  </tbody>\n",
       "</table>\n",
       "<p>500 rows × 9 columns</p>\n",
       "</div>"
      ],
      "text/plain": [
       "     StudentID  Gender  Age  StudyHoursPerWeek  AttendanceRate   GPA  \\\n",
       "0            1    Male   24                 37           90.75  3.47   \n",
       "1            2  Female   22                 37           74.90  2.32   \n",
       "2            3    Male   22                 10           53.36  2.38   \n",
       "3            4    Male   24                 10           70.26  3.46   \n",
       "4            5    Male   18                 19           74.87  2.31   \n",
       "..         ...     ...  ...                ...             ...   ...   \n",
       "495        496    Male   22                 37           76.61  2.97   \n",
       "496        497    Male   23                 11           56.29  3.20   \n",
       "497        498  Female   20                  6           56.64  3.20   \n",
       "498        499    Male   22                 18           57.18  2.05   \n",
       "499        500  Female   24                 21           96.99  2.64   \n",
       "\n",
       "           Major PartTimeJob ExtraCurricularActivities  \n",
       "0           Arts         Yes                        No  \n",
       "1      Education          No                        No  \n",
       "2       Business          No                        No  \n",
       "3        Science         Yes                        No  \n",
       "4      Education         Yes                        No  \n",
       "..           ...         ...                       ...  \n",
       "495      Science          No                        No  \n",
       "496      Science          No                        No  \n",
       "497      Science          No                       Yes  \n",
       "498     Business          No                       Yes  \n",
       "499  Engineering          No                        No  \n",
       "\n",
       "[500 rows x 9 columns]"
      ]
     },
     "execution_count": 22,
     "metadata": {},
     "output_type": "execute_result"
    }
   ],
   "source": [
    "#got the idea from intoduction to pandas \n",
    "student_performance=pd.read_csv('student_performance_data.csv')\n",
    "student_performance"
   ]
  },
  {
   "cell_type": "code",
   "execution_count": 23,
   "id": "d4f7589b-edea-4b08-900f-6cc27b902510",
   "metadata": {},
   "outputs": [
    {
     "name": "stdout",
     "output_type": "stream",
     "text": [
      "Major with highest total study hours per gender:\n",
      "   Gender      Major  StudyHoursPerWeek\n",
      "1  Female   Business               1229\n",
      "7    Male  Education               1212\n"
     ]
    }
   ],
   "source": [
    "#got the idea from intoduction to pandas \n",
    "# here am  Grouping data by gender and major, and calculate total study hours per week\n",
    "study_hours = student_performance.groupby(['Gender', 'Major'])['StudyHoursPerWeek'].sum().reset_index()\n",
    "\n",
    "# here am Identifying the major with the highest total study hours for each gender\n",
    "highest_study_hours = study_hours.loc[study_hours.groupby('Gender')['StudyHoursPerWeek'].idxmax()]\n",
    "print(\"Major with highest total study hours per gender:\")\n",
    "print(highest_study_hours)"
   ]
  },
  {
   "cell_type": "code",
   "execution_count": 24,
   "id": "d0c65db4-d704-4960-b1d1-7f5a1b39f802",
   "metadata": {},
   "outputs": [],
   "source": [
    "# considering the output above Business major(subject) has much study hours per gender"
   ]
  },
  {
   "cell_type": "markdown",
   "id": "8115efbd-7ab9-4c53-9fea-5efabcf2dddb",
   "metadata": {},
   "source": [
    "# (b) Which gender has the highest average attendance rate?"
   ]
  },
  {
   "cell_type": "code",
   "execution_count": 25,
   "id": "45406c65-3f1b-43d3-aee0-08f78061d84f",
   "metadata": {},
   "outputs": [
    {
     "data": {
      "text/plain": [
       "Gender\n",
       "Female    75.925742\n",
       "Male      74.009016\n",
       "Name: AttendanceRate, dtype: float64"
      ]
     },
     "execution_count": 25,
     "metadata": {},
     "output_type": "execute_result"
    }
   ],
   "source": [
    "#got the idea from intoduction to pandas \n",
    "# here am Grouping data by gender and calculate the average attendance rate\n",
    "average_attendance_rate = student_performance.groupby('Gender')['AttendanceRate'].mean()\n",
    "average_attendance_rate\n"
   ]
  },
  {
   "cell_type": "code",
   "execution_count": 26,
   "id": "3105f394-bb92-448a-92a1-d7cb2a6a875a",
   "metadata": {},
   "outputs": [
    {
     "name": "stdout",
     "output_type": "stream",
     "text": [
      "Gender with highest average attendance rate: Female\n",
      "Average attendance rates by gender:\n",
      "Gender\n",
      "Female    75.925742\n",
      "Male      74.009016\n",
      "Name: AttendanceRate, dtype: float64\n"
     ]
    }
   ],
   "source": [
    "#got the idea from intoduction to pandas and asked stackoverflow too\n",
    "# here am Identifying  the gender with the highest average attendance rate\n",
    "highest_attendance_gender = average_attendance_rate.idxmax()\n",
    "print(\"Gender with highest average attendance rate:\", highest_attendance_gender)\n",
    "print(\"Average attendance rates by gender:\")\n",
    "print(average_attendance_rate)"
   ]
  },
  {
   "cell_type": "code",
   "execution_count": 27,
   "id": "fc79cbb6-e995-4f1e-8b0f-dc1d8cbdc349",
   "metadata": {},
   "outputs": [],
   "source": [
    "# according to the out put of average_attendance_rate, female gender has the highest average attendance rate."
   ]
  },
  {
   "cell_type": "markdown",
   "id": "7313cf2d-4e4a-48e8-af8e-440546775bfc",
   "metadata": {},
   "source": [
    "# (c) What percentage of students have part-time jobs, and what percentage have no part-time jobs?\n",
    " # (5 marks) answer"
   ]
  },
  {
   "cell_type": "code",
   "execution_count": 28,
   "id": "6a9f9f26-ab30-4748-b994-55d8f184dd36",
   "metadata": {},
   "outputs": [
    {
     "name": "stdout",
     "output_type": "stream",
     "text": [
      "Percentage with jobs: 46.40%\n",
      "Percentage without jobs: 53.60%\n"
     ]
    },
    {
     "name": "stderr",
     "output_type": "stream",
     "text": [
      "C:\\Users\\FAYIMA RAHUAMN\\AppData\\Local\\Temp\\ipykernel_7172\\1892161518.py:5: FutureWarning: Series.__getitem__ treating keys as positions is deprecated. In a future version, integer keys will always be treated as labels (consistent with DataFrame behavior). To access a value by position, use `ser.iloc[pos]`\n",
      "  percentage_with_job = (job_counts.get(1, 0) / len(student_performance)) * 100\n"
     ]
    }
   ],
   "source": [
    "#got the idea from intoduction to pandas \n",
    "#here am counting students with and without part-time jobs\n",
    "job_counts = student_performance['PartTimeJob'].value_counts()\n",
    "\n",
    "# here am  Calculating the percentages\n",
    "percentage_with_job = (job_counts.get(1, 0) / len(student_performance)) * 100\n",
    "percentage_without_job = 100 - percentage_with_job\n",
    "print(f\"Percentage with jobs: {percentage_with_job:.2f}%\")\n",
    "print(f\"Percentage without jobs: {percentage_without_job:.2f}%\")"
   ]
  },
  {
   "cell_type": "markdown",
   "id": "0b26a881-af18-4b4b-ab96-826d6509b662",
   "metadata": {},
   "source": [
    "# (d) For each gender, what is the mean GPA and variance of age? (5 marks)\n",
    "# answers"
   ]
  },
  {
   "cell_type": "code",
   "execution_count": 29,
   "id": "638e4fe4-f06f-4107-b05f-7b9d496851fc",
   "metadata": {},
   "outputs": [
    {
     "name": "stdout",
     "output_type": "stream",
     "text": [
      "Mean GPA by gender:\n",
      "Gender\n",
      "Female    2.995352\n",
      "Male      2.974467\n",
      "Name: GPA, dtype: float64\n",
      "Variance of age by gender:\n",
      "Gender\n",
      "Female    4.005637\n",
      "Male      3.960130\n",
      "Name: Age, dtype: float64\n"
     ]
    }
   ],
   "source": [
    "# got the idea from intoduction to pandas\n",
    "#have Grouped data by gender                                        \n",
    "# and Calculated mean GPA and variance of age for each gender\n",
    "mean_GPA =  student_performance.groupby('Gender')['GPA'].mean()      \n",
    "variance_age =  student_performance.groupby('Gender')['Age'].var()\n",
    "\n",
    "print(\"Mean GPA by gender:\")\n",
    "print(mean_GPA)\n",
    "print(\"Variance of age by gender:\")\n",
    "print(variance_age)"
   ]
  },
  {
   "cell_type": "markdown",
   "id": "5cab1b82-d87a-4a49-8643-b4e6aab86dfa",
   "metadata": {},
   "source": [
    "# (e) Create a visualization that effectively shows if there is a relationship between any two variables\n",
    " # of your choice. Your answer must be given in a single pipe. (5 marks)\n",
    "# answers"
   ]
  },
  {
   "cell_type": "code",
   "execution_count": 34,
   "id": "12565eec-7e63-48ed-9bd0-0314619a6257",
   "metadata": {},
   "outputs": [
    {
     "data": {
      "image/png": "[encoded data removed]",
      "text/plain": [
       "<Figure size 640x480 with 1 Axes>"
      ]
     },
     "metadata": {},
     "output_type": "display_data"
    }
   ],
   "source": [
    "# got the idea from intoduction to pandas,asked stackoverflow and google too\n",
    "(sns.scatterplot(data=student_performance, x='StudyHoursPerWeek', y='GPA', hue='Gender', palette='viridis', alpha=0.7)\n",
    "    .set(title='Scatterplot of GPA vs Study Hours', xlabel='Study Hours per Week', ylabel='GPA'))\n",
    "plt.grid(True, linestyle='--', alpha=0.6)\n",
    "plt.legend(title='Gender')\n",
    "plt.show()"
   ]
  },
  {
   "cell_type": "markdown",
   "id": "cb989d3a-2881-4c78-8177-9858bcbc1632",
   "metadata": {},
   "source": [
    "# 4. Bonus Question.\n",
    "# (a) Multiply a 5x3 matrix by a 3x2 matrix (real matrix product) (Hint: create a 5x3 and 3x2 matrices\n",
    " # and peform matrix multiplication).\n",
    " # answer\n",
    "\n"
   ]
  },
  {
   "cell_type": "code",
   "execution_count": 36,
   "id": "b6bf6d6c-4175-4c93-8847-24edd6a4ca25",
   "metadata": {},
   "outputs": [],
   "source": [
    "matrix_a = np.random.rand(5, 3)  # 5x3 matrix with random values    #got ideas from 02 introduction to numpy\n",
    "matrix_b = np.random.rand(3, 2)  # 3x2 matrix with random values"
   ]
  },
  {
   "cell_type": "code",
   "execution_count": 37,
   "id": "32f748c9-197b-427b-84ad-9300c6dc8d6a",
   "metadata": {},
   "outputs": [
    {
     "name": "stdout",
     "output_type": "stream",
     "text": [
      "Result of 5x3 multiplied by 3x2 matrix:\n",
      "[[0.31113036 0.68338981]\n",
      " [0.46826763 0.97473239]\n",
      " [0.58661559 1.38655262]\n",
      " [0.17802142 0.51645995]\n",
      " [0.40517255 0.95388006]]\n"
     ]
    }
   ],
   "source": [
    "\n",
    "#here am  Performing  matrix multiplication                  #got ideas from 02 introduction to numpy\n",
    "result_matrix = np.dot(matrix_a, matrix_b)\n",
    "print(\"Result of 5x3 multiplied by 3x2 matrix:\")\n",
    "print(result_matrix)"
   ]
  },
  {
   "cell_type": "markdown",
   "id": "169fd680-107c-4fa4-aeb9-985b1e552325",
   "metadata": {},
   "source": [
    "# 4(b) Create a 3x3 identity matrix"
   ]
  },
  {
   "cell_type": "code",
   "execution_count": 38,
   "id": "f3640956-fe12-440e-a9b7-2fb6d5df8876",
   "metadata": {},
   "outputs": [
    {
     "name": "stdout",
     "output_type": "stream",
     "text": [
      "3x3 Identity Matrix:\n",
      "[[1. 0. 0.]\n",
      " [0. 1. 0.]\n",
      " [0. 0. 1.]]\n"
     ]
    }
   ],
   "source": [
    "identity_matrix = np.eye(3)                  #got ideas from 02 introduction to numpy and asked stockoverflow too\n",
    "print(\"3x3 Identity Matrix:\")\n",
    "print(identity_matrix)"
   ]
  },
  {
   "cell_type": "markdown",
   "id": "9f1e2d31-04d7-470b-abd8-a37166d0e6f7",
   "metadata": {},
   "source": [
    "# 4(c) Create a vector with values ranging from 10 to 49).\n"
   ]
  },
  {
   "cell_type": "code",
   "execution_count": 39,
   "id": "ef860f21-1810-45c3-bd84-a05a731eb24c",
   "metadata": {},
   "outputs": [
    {
     "name": "stdout",
     "output_type": "stream",
     "text": [
      "Vector with values from 10 to 49:\n",
      "[10 11 12 13 14 15 16 17 18 19 20 21 22 23 24 25 26 27 28 29 30 31 32 33\n",
      " 34 35 36 37 38 39 40 41 42 43 44 45 46 47 48 49]\n"
     ]
    }
   ],
   "source": [
    "vector = np.arange(10, 50)\n",
    "print(\"Vector with values from 10 to 49:\")\n",
    "print(vector)"
   ]
  },
  {
   "cell_type": "markdown",
   "id": "4bc7b5b3-8dfc-44b9-993b-b3d7b0655063",
   "metadata": {},
   "source": [
    "# 4(d) Create a null vector of size 10.\n"
   ]
  },
  {
   "cell_type": "code",
   "execution_count": 40,
   "id": "e1c10493-b23c-4aee-97c5-62d20c48f519",
   "metadata": {},
   "outputs": [
    {
     "name": "stdout",
     "output_type": "stream",
     "text": [
      "Null vector of size 10:\n",
      "[0. 0. 0. 0. 0. 0. 0. 0. 0. 0.]\n"
     ]
    }
   ],
   "source": [
    "null_vector = np.zeros(10)                  #got ideas from 02 introduction to numpy and asked stockoverflow too\n",
    "print(\"Null vector of size 10:\")\n",
    "print(null_vector)"
   ]
  },
  {
   "cell_type": "markdown",
   "id": "f80289e5-8814-4015-80e7-edbdd4c602ff",
   "metadata": {},
   "source": [
    "# 4(e) Create a 3x3x3 array with random values"
   ]
  },
  {
   "cell_type": "code",
   "execution_count": 41,
   "id": "f818ff9f-e5cf-4d11-a438-c1f7e4907f78",
   "metadata": {},
   "outputs": [
    {
     "name": "stdout",
     "output_type": "stream",
     "text": [
      "3x3x3 array with random values:\n",
      "[[[0.0256862  0.51646258 0.84639971]\n",
      "  [0.55088261 0.4212463  0.29109401]\n",
      "  [0.49336376 0.66514631 0.79235506]]\n",
      "\n",
      " [[0.658078   0.88062212 0.9832991 ]\n",
      "  [0.32178044 0.65980887 0.05275581]\n",
      "  [0.43228019 0.8034765  0.59781797]]\n",
      "\n",
      " [[0.58577299 0.27684862 0.1910515 ]\n",
      "  [0.79656944 0.58761764 0.38561614]\n",
      "  [0.19755849 0.65831092 0.08306205]]]\n"
     ]
    }
   ],
   "source": [
    "random_array = np.random.rand(3, 3, 3)             #got ideas from 02 introduction to numpy and asked stockoverflow too\n",
    "print(\"3x3x3 array with random values:\")\n",
    "print(random_array)"
   ]
  },
  {
   "cell_type": "markdown",
   "id": "86aaf505-1628-49a5-b7ad-ba4b7e08b32e",
   "metadata": {},
   "source": [
    "# 4(f) Create a 5x5 matrix with values 1,2,3,4 just below the diagonal"
   ]
  },
  {
   "cell_type": "code",
   "execution_count": 51,
   "id": "15985307-4ca2-4fcc-9b40-f7c2875250d2",
   "metadata": {},
   "outputs": [
    {
     "name": "stdout",
     "output_type": "stream",
     "text": [
      "[[0. 0. 0. 0. 0.]\n",
      " [1. 0. 0. 0. 0.]\n",
      " [0. 2. 0. 0. 0.]\n",
      " [0. 0. 3. 0. 0.]\n",
      " [0. 0. 0. 4. 0.]]\n"
     ]
    }
   ],
   "source": [
    "import numpy as np                                        #got ideas from 02 introduction to numpy and asked stockoverflow too\n",
    "\n",
    "matrix = np.zeros((5, 5))\n",
    "for i in range(4):\n",
    "    matrix[i+1, i] = i+1  # Assigning 1, 2, 3, 4 just below the diagonal\n",
    "\n",
    "print(matrix)"
   ]
  },
  {
   "cell_type": "markdown",
   "id": "29c024a7-4f34-4e20-a488-637f5463cd94",
   "metadata": {},
   "source": [
    "# 4(g) Normalize a 5x5 random matrix"
   ]
  },
  {
   "cell_type": "code",
   "execution_count": 52,
   "id": "e7227537-cf15-464c-8f46-af2cf3473803",
   "metadata": {},
   "outputs": [
    {
     "name": "stdout",
     "output_type": "stream",
     "text": [
      "[[0.         0.82123329 0.0899436  0.42004489 0.43660454]\n",
      " [1.         0.93996314 0.1765909  0.74020086 0.96674704]\n",
      " [0.40420041 0.55145313 0.63435786 0.0167721  0.77256662]\n",
      " [0.36820797 0.91659134 0.48643257 0.64446349 0.16536954]\n",
      " [0.32468379 0.34433462 0.83707984 0.96676123 0.07459145]]\n"
     ]
    }
   ],
   "source": [
    "matrix = np.random.rand(5, 5)  # Random 5x5 matrix                           #got ideas from 02 introduction to numpy and asked stockoverflow too\n",
    "normalized_matrix = (matrix - matrix.min()) / (matrix.max() - matrix.min())\n",
    "\n",
    "print(normalized_matrix)"
   ]
  },
  {
   "cell_type": "markdown",
   "id": "d1055f10-435d-42a1-acbb-967ea236d7cd",
   "metadata": {},
   "source": [
    "# 4(h) How to get the dates of yesterday, today and tomorrow?"
   ]
  },
  {
   "cell_type": "code",
   "execution_count": 53,
   "id": "22c5fc5a-758c-4047-900e-cf92700fb5d4",
   "metadata": {},
   "outputs": [
    {
     "name": "stdout",
     "output_type": "stream",
     "text": [
      "Yesterday: 2024-12-12\n",
      "Today: 2024-12-13\n",
      "Tomorrow: 2024-12-14\n"
     ]
    }
   ],
   "source": [
    "from datetime import datetime, timedelta                      #got ideas from 02 introduction to numpy and asked stockoverflow too\n",
    "\n",
    "today = datetime.today()\n",
    "yesterday = today - timedelta(days=1)\n",
    "tomorrow = today + timedelta(days=1)\n",
    "\n",
    "print(\"Yesterday:\", yesterday.date())\n",
    "print(\"Today:\", today.date())\n",
    "print(\"Tomorrow:\", tomorrow.date())"
   ]
  },
  {
   "cell_type": "markdown",
   "id": "e81eb6a5-771a-4c58-8c5d-826ddc196ba2",
   "metadata": {},
   "source": [
    "# 4 (i) Find indices of non-zero elements from [1,2,0,0,4,0]."
   ]
  },
  {
   "cell_type": "code",
   "execution_count": 54,
   "id": "e2386e42-a08a-40e2-8310-29ce693e1e9f",
   "metadata": {},
   "outputs": [
    {
     "name": "stdout",
     "output_type": "stream",
     "text": [
      "Indices of non-zero elements: [0 1 4]\n"
     ]
    }
   ],
   "source": [
    "array = np.array([1, 2, 0, 0, 4, 0])                             #got ideas from 02 introduction to numpy and asked stockoverflow too\n",
    "non_zero_indices = np.nonzero(array)[0]\n",
    "\n",
    "print(\"Indices of non-zero elements:\", non_zero_indices)"
   ]
  },
  {
   "cell_type": "markdown",
   "id": "e1c27db5-a745-4375-9f5d-b2c3927211fc",
   "metadata": {},
   "source": [
    "# 3(a) Briefly describe the steps involved in fitting a linear regression in Python? (2 marks)"
   ]
  },
  {
   "cell_type": "code",
   "execution_count": 43,
   "id": "a3c190f3-a13b-4872-943b-39d0a0b544ff",
   "metadata": {},
   "outputs": [],
   "source": [
    "#1.\tImport the necessary libraries:from sklearn.\n",
    "#2.\tSplit your data into features (X) and target (y).\n",
    "#3.\tSplit the dataset into training and test sets.\n",
    "#4.\tFit the model:\n"
   ]
  },
  {
   "cell_type": "markdown",
   "id": "d9c4034a-584d-4aae-a482-63b137006085",
   "metadata": {},
   "source": [
    "# 3(b) What assumptions does the linear regression take into consideration? (3 marks)\n"
   ]
  },
  {
   "cell_type": "code",
   "execution_count": 44,
   "id": "2bbae153-5ba5-46b0-860f-ad6896259fd9",
   "metadata": {},
   "outputs": [],
   "source": [
    "#1.\tThe relationship between independent and dependent variables is linear.\n",
    "#2.\tErrors (residuals) are normally distributed.\n",
    "#3.\tHomoscedasticity: Variance of errors is constant.\n"
   ]
  },
  {
   "cell_type": "markdown",
   "id": "bbe1706e-b5d3-4d8d-bd33-7f233f266de8",
   "metadata": {},
   "source": [
    "# 3(c) Using the 2020 US Census dataset, train a simple linear regression predicting a continuous\n",
    "# target variable using the scikit-learn library. From the output coefficients, generate an equation\n",
    "# representing the trained simple linear regression? (3 amrks)\n"
   ]
  },
  {
   "cell_type": "code",
   "execution_count": 47,
   "id": "04531af2-0818-4303-a851-10a0e1534e6b",
   "metadata": {},
   "outputs": [],
   "source": [
    "import pandas as pd                                         # got the idea  from your notebook i.e 06 univariate linear regression\n",
    "from sklearn.linear_model import LinearRegression\n",
    "from sklearn.model_selection import train_test_split"
   ]
  },
  {
   "cell_type": "code",
   "execution_count": 50,
   "id": "8c3250fc-7889-4d5b-b03c-edac68ac5ccc",
   "metadata": {},
   "outputs": [
    {
     "data": {
      "text/html": [
       "<div>\n",
       "<style scoped>\n",
       "    .dataframe tbody tr th:only-of-type {\n",
       "        vertical-align: middle;\n",
       "    }\n",
       "\n",
       "    .dataframe tbody tr th {\n",
       "        vertical-align: top;\n",
       "    }\n",
       "\n",
       "    .dataframe thead th {\n",
       "        text-align: right;\n",
       "    }\n",
       "</style>\n",
       "<table border=\"1\" class=\"dataframe\">\n",
       "  <thead>\n",
       "    <tr style=\"text-align: right;\">\n",
       "      <th></th>\n",
       "      <th>Age</th>\n",
       "      <th>Sex</th>\n",
       "      <th>Marital_status</th>\n",
       "      <th>Number_of_children</th>\n",
       "      <th>Family_size</th>\n",
       "      <th>Education-degree_recode</th>\n",
       "      <th>Education-degree_recode 2</th>\n",
       "      <th>Education</th>\n",
       "      <th>Race_ethnicity-multi_recode</th>\n",
       "      <th>Immigrate-year</th>\n",
       "      <th>Birthplace_recode</th>\n",
       "      <th>Speaks_English</th>\n",
       "      <th>Employment_status</th>\n",
       "      <th>Income-wages</th>\n",
       "      <th>Region_recode</th>\n",
       "      <th>Region-division_recode</th>\n",
       "      <th>Moved</th>\n",
       "      <th>Year</th>\n",
       "      <th>state</th>\n",
       "    </tr>\n",
       "  </thead>\n",
       "  <tbody>\n",
       "    <tr>\n",
       "      <th>0</th>\n",
       "      <td>30</td>\n",
       "      <td>Male</td>\n",
       "      <td>Married, spouse present</td>\n",
       "      <td>2</td>\n",
       "      <td>4</td>\n",
       "      <td>Masterâ€™s or professional degree</td>\n",
       "      <td>Master or professional degree</td>\n",
       "      <td>Master or PhD or professional degree</td>\n",
       "      <td>Non-Hispanic White</td>\n",
       "      <td>0</td>\n",
       "      <td>U.S. state, territory, or outlying region</td>\n",
       "      <td>Yes, speaks only English</td>\n",
       "      <td>Employed</td>\n",
       "      <td>63000</td>\n",
       "      <td>South</td>\n",
       "      <td>East South Central</td>\n",
       "      <td>Same house</td>\n",
       "      <td>2020</td>\n",
       "      <td>Tennessee</td>\n",
       "    </tr>\n",
       "    <tr>\n",
       "      <th>1</th>\n",
       "      <td>28</td>\n",
       "      <td>Female</td>\n",
       "      <td>Married, spouse present</td>\n",
       "      <td>1 child present</td>\n",
       "      <td>3</td>\n",
       "      <td>Masterâ€™s or professional degree</td>\n",
       "      <td>Master or professional degree</td>\n",
       "      <td>Master or PhD or professional degree</td>\n",
       "      <td>Non-Hispanic White</td>\n",
       "      <td>0</td>\n",
       "      <td>U.S. state, territory, or outlying region</td>\n",
       "      <td>Yes, speaks only English</td>\n",
       "      <td>Employed</td>\n",
       "      <td>46000</td>\n",
       "      <td>South</td>\n",
       "      <td>East South Central</td>\n",
       "      <td>Same house</td>\n",
       "      <td>2020</td>\n",
       "      <td>Tennessee</td>\n",
       "    </tr>\n",
       "    <tr>\n",
       "      <th>2</th>\n",
       "      <td>34</td>\n",
       "      <td>Male</td>\n",
       "      <td>Married, spouse present</td>\n",
       "      <td>1 child present</td>\n",
       "      <td>3</td>\n",
       "      <td>Bachelorâ€™s degree</td>\n",
       "      <td>Bachelor degree</td>\n",
       "      <td>Associate or Bachelor degree</td>\n",
       "      <td>Non-Hispanic White</td>\n",
       "      <td>0</td>\n",
       "      <td>U.S. state, territory, or outlying region</td>\n",
       "      <td>Yes, speaks only English</td>\n",
       "      <td>Employed</td>\n",
       "      <td>45000</td>\n",
       "      <td>South</td>\n",
       "      <td>East South Central</td>\n",
       "      <td>Same house</td>\n",
       "      <td>2020</td>\n",
       "      <td>Tennessee</td>\n",
       "    </tr>\n",
       "    <tr>\n",
       "      <th>3</th>\n",
       "      <td>58</td>\n",
       "      <td>Female</td>\n",
       "      <td>Married, spouse absent</td>\n",
       "      <td>1 child present</td>\n",
       "      <td>2</td>\n",
       "      <td>1 or more years of college, no degree</td>\n",
       "      <td>1 or more years of college, no degree</td>\n",
       "      <td>1 or more years of college, no degree</td>\n",
       "      <td>Non-Hispanic White</td>\n",
       "      <td>0</td>\n",
       "      <td>U.S. state, territory, or outlying region</td>\n",
       "      <td>Yes, speaks only English</td>\n",
       "      <td>Employed</td>\n",
       "      <td>55000</td>\n",
       "      <td>South</td>\n",
       "      <td>East South Central</td>\n",
       "      <td>Same house</td>\n",
       "      <td>2020</td>\n",
       "      <td>Tennessee</td>\n",
       "    </tr>\n",
       "    <tr>\n",
       "      <th>4</th>\n",
       "      <td>39</td>\n",
       "      <td>Male</td>\n",
       "      <td>Never married/single</td>\n",
       "      <td>0 children present</td>\n",
       "      <td>1</td>\n",
       "      <td>Bachelorâ€™s degree</td>\n",
       "      <td>Bachelor degree</td>\n",
       "      <td>Associate or Bachelor degree</td>\n",
       "      <td>Non-Hispanic White</td>\n",
       "      <td>0</td>\n",
       "      <td>U.S. state, territory, or outlying region</td>\n",
       "      <td>Yes, speaks only English</td>\n",
       "      <td>Employed</td>\n",
       "      <td>12000</td>\n",
       "      <td>South</td>\n",
       "      <td>East South Central</td>\n",
       "      <td>Same house</td>\n",
       "      <td>2020</td>\n",
       "      <td>Tennessee</td>\n",
       "    </tr>\n",
       "    <tr>\n",
       "      <th>...</th>\n",
       "      <td>...</td>\n",
       "      <td>...</td>\n",
       "      <td>...</td>\n",
       "      <td>...</td>\n",
       "      <td>...</td>\n",
       "      <td>...</td>\n",
       "      <td>...</td>\n",
       "      <td>...</td>\n",
       "      <td>...</td>\n",
       "      <td>...</td>\n",
       "      <td>...</td>\n",
       "      <td>...</td>\n",
       "      <td>...</td>\n",
       "      <td>...</td>\n",
       "      <td>...</td>\n",
       "      <td>...</td>\n",
       "      <td>...</td>\n",
       "      <td>...</td>\n",
       "      <td>...</td>\n",
       "    </tr>\n",
       "    <tr>\n",
       "      <th>4360</th>\n",
       "      <td>67</td>\n",
       "      <td>Male</td>\n",
       "      <td>Married, spouse present</td>\n",
       "      <td>0 children present</td>\n",
       "      <td>2</td>\n",
       "      <td>Bachelorâ€™s degree</td>\n",
       "      <td>Bachelor degree</td>\n",
       "      <td>Associate or Bachelor degree</td>\n",
       "      <td>Non-Hispanic White</td>\n",
       "      <td>0</td>\n",
       "      <td>U.S. state, territory, or outlying region</td>\n",
       "      <td>Yes, speaks only English</td>\n",
       "      <td>Employed</td>\n",
       "      <td>40000</td>\n",
       "      <td>Midwest</td>\n",
       "      <td>West North Central</td>\n",
       "      <td>Same house</td>\n",
       "      <td>2020</td>\n",
       "      <td>North Dakota</td>\n",
       "    </tr>\n",
       "    <tr>\n",
       "      <th>4361</th>\n",
       "      <td>48</td>\n",
       "      <td>Male</td>\n",
       "      <td>Married, spouse present</td>\n",
       "      <td>4</td>\n",
       "      <td>6</td>\n",
       "      <td>Associateâ€™s degree</td>\n",
       "      <td>Associate degree</td>\n",
       "      <td>Associate or Bachelor degree</td>\n",
       "      <td>Non-Hispanic White</td>\n",
       "      <td>0</td>\n",
       "      <td>U.S. state, territory, or outlying region</td>\n",
       "      <td>Yes, speaks only English</td>\n",
       "      <td>Employed</td>\n",
       "      <td>65000</td>\n",
       "      <td>Midwest</td>\n",
       "      <td>West North Central</td>\n",
       "      <td>Same house</td>\n",
       "      <td>2020</td>\n",
       "      <td>North Dakota</td>\n",
       "    </tr>\n",
       "    <tr>\n",
       "      <th>4362</th>\n",
       "      <td>33</td>\n",
       "      <td>Male</td>\n",
       "      <td>Married, spouse absent</td>\n",
       "      <td>0 children present</td>\n",
       "      <td>1</td>\n",
       "      <td>Associateâ€™s degree</td>\n",
       "      <td>Associate degree</td>\n",
       "      <td>Associate or Bachelor degree</td>\n",
       "      <td>Non-Hispanic Black</td>\n",
       "      <td>2017</td>\n",
       "      <td>Africa</td>\n",
       "      <td>Yes, speaks very well</td>\n",
       "      <td>Employed</td>\n",
       "      <td>45000</td>\n",
       "      <td>Midwest</td>\n",
       "      <td>West North Central</td>\n",
       "      <td>Same house</td>\n",
       "      <td>2020</td>\n",
       "      <td>North Dakota</td>\n",
       "    </tr>\n",
       "    <tr>\n",
       "      <th>4363</th>\n",
       "      <td>22</td>\n",
       "      <td>Female</td>\n",
       "      <td>Never married/single</td>\n",
       "      <td>0 children present</td>\n",
       "      <td>2</td>\n",
       "      <td>1 or more years of college, no degree</td>\n",
       "      <td>1 or more years of college, no degree</td>\n",
       "      <td>1 or more years of college, no degree</td>\n",
       "      <td>Non-Hispanic White</td>\n",
       "      <td>0</td>\n",
       "      <td>U.S. state, territory, or outlying region</td>\n",
       "      <td>Yes, speaks only English</td>\n",
       "      <td>Employed</td>\n",
       "      <td>500</td>\n",
       "      <td>Midwest</td>\n",
       "      <td>West North Central</td>\n",
       "      <td>Same house</td>\n",
       "      <td>2020</td>\n",
       "      <td>North Dakota</td>\n",
       "    </tr>\n",
       "    <tr>\n",
       "      <th>4364</th>\n",
       "      <td>49</td>\n",
       "      <td>Female</td>\n",
       "      <td>Married, spouse present</td>\n",
       "      <td>2</td>\n",
       "      <td>4</td>\n",
       "      <td>Masterâ€™s or professional degree</td>\n",
       "      <td>Master or professional degree</td>\n",
       "      <td>Master or PhD or professional degree</td>\n",
       "      <td>Non-Hispanic White</td>\n",
       "      <td>0</td>\n",
       "      <td>U.S. state, territory, or outlying region</td>\n",
       "      <td>Yes, speaks only English</td>\n",
       "      <td>Employed</td>\n",
       "      <td>498000</td>\n",
       "      <td>Midwest</td>\n",
       "      <td>West North Central</td>\n",
       "      <td>Same house</td>\n",
       "      <td>2020</td>\n",
       "      <td>North Dakota</td>\n",
       "    </tr>\n",
       "  </tbody>\n",
       "</table>\n",
       "<p>4365 rows × 19 columns</p>\n",
       "</div>"
      ],
      "text/plain": [
       "      Age     Sex           Marital_status  Number_of_children  Family_size  \\\n",
       "0      30    Male  Married, spouse present                   2            4   \n",
       "1      28  Female  Married, spouse present     1 child present            3   \n",
       "2      34    Male  Married, spouse present     1 child present            3   \n",
       "3      58  Female   Married, spouse absent     1 child present            2   \n",
       "4      39    Male     Never married/single  0 children present            1   \n",
       "...   ...     ...                      ...                 ...          ...   \n",
       "4360   67    Male  Married, spouse present  0 children present            2   \n",
       "4361   48    Male  Married, spouse present                   4            6   \n",
       "4362   33    Male   Married, spouse absent  0 children present            1   \n",
       "4363   22  Female     Never married/single  0 children present            2   \n",
       "4364   49  Female  Married, spouse present                   2            4   \n",
       "\n",
       "                    Education-degree_recode  \\\n",
       "0         Masterâ€™s or professional degree   \n",
       "1         Masterâ€™s or professional degree   \n",
       "2                       Bachelorâ€™s degree   \n",
       "3     1 or more years of college, no degree   \n",
       "4                       Bachelorâ€™s degree   \n",
       "...                                     ...   \n",
       "4360                    Bachelorâ€™s degree   \n",
       "4361                   Associateâ€™s degree   \n",
       "4362                   Associateâ€™s degree   \n",
       "4363  1 or more years of college, no degree   \n",
       "4364      Masterâ€™s or professional degree   \n",
       "\n",
       "                  Education-degree_recode 2  \\\n",
       "0             Master or professional degree   \n",
       "1             Master or professional degree   \n",
       "2                           Bachelor degree   \n",
       "3     1 or more years of college, no degree   \n",
       "4                           Bachelor degree   \n",
       "...                                     ...   \n",
       "4360                        Bachelor degree   \n",
       "4361                       Associate degree   \n",
       "4362                       Associate degree   \n",
       "4363  1 or more years of college, no degree   \n",
       "4364          Master or professional degree   \n",
       "\n",
       "                                  Education Race_ethnicity-multi_recode  \\\n",
       "0      Master or PhD or professional degree          Non-Hispanic White   \n",
       "1      Master or PhD or professional degree          Non-Hispanic White   \n",
       "2              Associate or Bachelor degree          Non-Hispanic White   \n",
       "3     1 or more years of college, no degree          Non-Hispanic White   \n",
       "4              Associate or Bachelor degree          Non-Hispanic White   \n",
       "...                                     ...                         ...   \n",
       "4360           Associate or Bachelor degree          Non-Hispanic White   \n",
       "4361           Associate or Bachelor degree          Non-Hispanic White   \n",
       "4362           Associate or Bachelor degree          Non-Hispanic Black   \n",
       "4363  1 or more years of college, no degree          Non-Hispanic White   \n",
       "4364   Master or PhD or professional degree          Non-Hispanic White   \n",
       "\n",
       "      Immigrate-year                          Birthplace_recode  \\\n",
       "0                  0  U.S. state, territory, or outlying region   \n",
       "1                  0  U.S. state, territory, or outlying region   \n",
       "2                  0  U.S. state, territory, or outlying region   \n",
       "3                  0  U.S. state, territory, or outlying region   \n",
       "4                  0  U.S. state, territory, or outlying region   \n",
       "...              ...                                        ...   \n",
       "4360               0  U.S. state, territory, or outlying region   \n",
       "4361               0  U.S. state, territory, or outlying region   \n",
       "4362            2017                                     Africa   \n",
       "4363               0  U.S. state, territory, or outlying region   \n",
       "4364               0  U.S. state, territory, or outlying region   \n",
       "\n",
       "                Speaks_English Employment_status  Income-wages Region_recode  \\\n",
       "0     Yes, speaks only English          Employed         63000         South   \n",
       "1     Yes, speaks only English          Employed         46000         South   \n",
       "2     Yes, speaks only English          Employed         45000         South   \n",
       "3     Yes, speaks only English          Employed         55000         South   \n",
       "4     Yes, speaks only English          Employed         12000         South   \n",
       "...                        ...               ...           ...           ...   \n",
       "4360  Yes, speaks only English          Employed         40000       Midwest   \n",
       "4361  Yes, speaks only English          Employed         65000       Midwest   \n",
       "4362     Yes, speaks very well          Employed         45000       Midwest   \n",
       "4363  Yes, speaks only English          Employed           500       Midwest   \n",
       "4364  Yes, speaks only English          Employed        498000       Midwest   \n",
       "\n",
       "     Region-division_recode       Moved  Year         state  \n",
       "0        East South Central  Same house  2020     Tennessee  \n",
       "1        East South Central  Same house  2020     Tennessee  \n",
       "2        East South Central  Same house  2020     Tennessee  \n",
       "3        East South Central  Same house  2020     Tennessee  \n",
       "4        East South Central  Same house  2020     Tennessee  \n",
       "...                     ...         ...   ...           ...  \n",
       "4360     West North Central  Same house  2020  North Dakota  \n",
       "4361     West North Central  Same house  2020  North Dakota  \n",
       "4362     West North Central  Same house  2020  North Dakota  \n",
       "4363     West North Central  Same house  2020  North Dakota  \n",
       "4364     West North Central  Same house  2020  North Dakota  \n",
       "\n",
       "[4365 rows x 19 columns]"
      ]
     },
     "execution_count": 50,
     "metadata": {},
     "output_type": "execute_result"
    }
   ],
   "source": [
    "census_data = pd.read_excel('Wages 2020Census cleaned.xlsx')\n",
    "census_data"
   ]
  },
  {
   "cell_type": "code",
   "execution_count": 57,
   "id": "4eb5a681-ab5d-48f1-a129-4041ab2cae27",
   "metadata": {},
   "outputs": [],
   "source": [
    "X = census_data[['Age']]  # Feature                    # got the idea  from your notebook i.e 06 univariate linear regression\n",
    "y = census_data['Income-wages']  # Target"
   ]
  },
  {
   "cell_type": "code",
   "execution_count": 58,
   "id": "55ea7b3d-3e2d-417a-af34-320fddaca93b",
   "metadata": {},
   "outputs": [],
   "source": [
    "# splitting data in to training and tests\n",
    "X_train, X_test, y_train, y_test = train_test_split(X, y, test_size=0.2, random_state=42) \n"
   ]
  },
  {
   "cell_type": "code",
   "execution_count": 73,
   "id": "63aa6af3-e8ce-428d-b81b-26c135cfd029",
   "metadata": {},
   "outputs": [
    {
     "data": {
      "text/html": [
       "<style>#sk-container-id-2 {\n",
       "  /* Definition of color scheme common for light and dark mode */\n",
       "  --sklearn-color-text: #000;\n",
       "  --sklearn-color-text-muted: #666;\n",
       "  --sklearn-color-line: gray;\n",
       "  /* Definition of color scheme for unfitted estimators */\n",
       "  --sklearn-color-unfitted-level-0: #fff5e6;\n",
       "  --sklearn-color-unfitted-level-1: #f6e4d2;\n",
       "  --sklearn-color-unfitted-level-2: #ffe0b3;\n",
       "  --sklearn-color-unfitted-level-3: chocolate;\n",
       "  /* Definition of color scheme for fitted estimators */\n",
       "  --sklearn-color-fitted-level-0: #f0f8ff;\n",
       "  --sklearn-color-fitted-level-1: #d4ebff;\n",
       "  --sklearn-color-fitted-level-2: #b3dbfd;\n",
       "  --sklearn-color-fitted-level-3: cornflowerblue;\n",
       "\n",
       "  /* Specific color for light theme */\n",
       "  --sklearn-color-text-on-default-background: var(--sg-text-color, var(--theme-code-foreground, var(--jp-content-font-color1, black)));\n",
       "  --sklearn-color-background: var(--sg-background-color, var(--theme-background, var(--jp-layout-color0, white)));\n",
       "  --sklearn-color-border-box: var(--sg-text-color, var(--theme-code-foreground, var(--jp-content-font-color1, black)));\n",
       "  --sklearn-color-icon: #696969;\n",
       "\n",
       "  @media (prefers-color-scheme: dark) {\n",
       "    /* Redefinition of color scheme for dark theme */\n",
       "    --sklearn-color-text-on-default-background: var(--sg-text-color, var(--theme-code-foreground, var(--jp-content-font-color1, white)));\n",
       "    --sklearn-color-background: var(--sg-background-color, var(--theme-background, var(--jp-layout-color0, #111)));\n",
       "    --sklearn-color-border-box: var(--sg-text-color, var(--theme-code-foreground, var(--jp-content-font-color1, white)));\n",
       "    --sklearn-color-icon: #878787;\n",
       "  }\n",
       "}\n",
       "\n",
       "#sk-container-id-2 {\n",
       "  color: var(--sklearn-color-text);\n",
       "}\n",
       "\n",
       "#sk-container-id-2 pre {\n",
       "  padding: 0;\n",
       "}\n",
       "\n",
       "#sk-container-id-2 input.sk-hidden--visually {\n",
       "  border: 0;\n",
       "  clip: rect(1px 1px 1px 1px);\n",
       "  clip: rect(1px, 1px, 1px, 1px);\n",
       "  height: 1px;\n",
       "  margin: -1px;\n",
       "  overflow: hidden;\n",
       "  padding: 0;\n",
       "  position: absolute;\n",
       "  width: 1px;\n",
       "}\n",
       "\n",
       "#sk-container-id-2 div.sk-dashed-wrapped {\n",
       "  border: 1px dashed var(--sklearn-color-line);\n",
       "  margin: 0 0.4em 0.5em 0.4em;\n",
       "  box-sizing: border-box;\n",
       "  padding-bottom: 0.4em;\n",
       "  background-color: var(--sklearn-color-background);\n",
       "}\n",
       "\n",
       "#sk-container-id-2 div.sk-container {\n",
       "  /* jupyter's `normalize.less` sets `[hidden] { display: none; }`\n",
       "     but bootstrap.min.css set `[hidden] { display: none !important; }`\n",
       "     so we also need the `!important` here to be able to override the\n",
       "     default hidden behavior on the sphinx rendered scikit-learn.org.\n",
       "     See: https://github.com/scikit-learn/scikit-learn/issues/21755 */\n",
       "  display: inline-block !important;\n",
       "  position: relative;\n",
       "}\n",
       "\n",
       "#sk-container-id-2 div.sk-text-repr-fallback {\n",
       "  display: none;\n",
       "}\n",
       "\n",
       "div.sk-parallel-item,\n",
       "div.sk-serial,\n",
       "div.sk-item {\n",
       "  /* draw centered vertical line to link estimators */\n",
       "  background-image: linear-gradient(var(--sklearn-color-text-on-default-background), var(--sklearn-color-text-on-default-background));\n",
       "  background-size: 2px 100%;\n",
       "  background-repeat: no-repeat;\n",
       "  background-position: center center;\n",
       "}\n",
       "\n",
       "/* Parallel-specific style estimator block */\n",
       "\n",
       "#sk-container-id-2 div.sk-parallel-item::after {\n",
       "  content: \"\";\n",
       "  width: 100%;\n",
       "  border-bottom: 2px solid var(--sklearn-color-text-on-default-background);\n",
       "  flex-grow: 1;\n",
       "}\n",
       "\n",
       "#sk-container-id-2 div.sk-parallel {\n",
       "  display: flex;\n",
       "  align-items: stretch;\n",
       "  justify-content: center;\n",
       "  background-color: var(--sklearn-color-background);\n",
       "  position: relative;\n",
       "}\n",
       "\n",
       "#sk-container-id-2 div.sk-parallel-item {\n",
       "  display: flex;\n",
       "  flex-direction: column;\n",
       "}\n",
       "\n",
       "#sk-container-id-2 div.sk-parallel-item:first-child::after {\n",
       "  align-self: flex-end;\n",
       "  width: 50%;\n",
       "}\n",
       "\n",
       "#sk-container-id-2 div.sk-parallel-item:last-child::after {\n",
       "  align-self: flex-start;\n",
       "  width: 50%;\n",
       "}\n",
       "\n",
       "#sk-container-id-2 div.sk-parallel-item:only-child::after {\n",
       "  width: 0;\n",
       "}\n",
       "\n",
       "/* Serial-specific style estimator block */\n",
       "\n",
       "#sk-container-id-2 div.sk-serial {\n",
       "  display: flex;\n",
       "  flex-direction: column;\n",
       "  align-items: center;\n",
       "  background-color: var(--sklearn-color-background);\n",
       "  padding-right: 1em;\n",
       "  padding-left: 1em;\n",
       "}\n",
       "\n",
       "\n",
       "/* Toggleable style: style used for estimator/Pipeline/ColumnTransformer box that is\n",
       "clickable and can be expanded/collapsed.\n",
       "- Pipeline and ColumnTransformer use this feature and define the default style\n",
       "- Estimators will overwrite some part of the style using the `sk-estimator` class\n",
       "*/\n",
       "\n",
       "/* Pipeline and ColumnTransformer style (default) */\n",
       "\n",
       "#sk-container-id-2 div.sk-toggleable {\n",
       "  /* Default theme specific background. It is overwritten whether we have a\n",
       "  specific estimator or a Pipeline/ColumnTransformer */\n",
       "  background-color: var(--sklearn-color-background);\n",
       "}\n",
       "\n",
       "/* Toggleable label */\n",
       "#sk-container-id-2 label.sk-toggleable__label {\n",
       "  cursor: pointer;\n",
       "  display: flex;\n",
       "  width: 100%;\n",
       "  margin-bottom: 0;\n",
       "  padding: 0.5em;\n",
       "  box-sizing: border-box;\n",
       "  text-align: center;\n",
       "  align-items: start;\n",
       "  justify-content: space-between;\n",
       "  gap: 0.5em;\n",
       "}\n",
       "\n",
       "#sk-container-id-2 label.sk-toggleable__label .caption {\n",
       "  font-size: 0.6rem;\n",
       "  font-weight: lighter;\n",
       "  color: var(--sklearn-color-text-muted);\n",
       "}\n",
       "\n",
       "#sk-container-id-2 label.sk-toggleable__label-arrow:before {\n",
       "  /* Arrow on the left of the label */\n",
       "  content: \"▸\";\n",
       "  float: left;\n",
       "  margin-right: 0.25em;\n",
       "  color: var(--sklearn-color-icon);\n",
       "}\n",
       "\n",
       "#sk-container-id-2 label.sk-toggleable__label-arrow:hover:before {\n",
       "  color: var(--sklearn-color-text);\n",
       "}\n",
       "\n",
       "/* Toggleable content - dropdown */\n",
       "\n",
       "#sk-container-id-2 div.sk-toggleable__content {\n",
       "  max-height: 0;\n",
       "  max-width: 0;\n",
       "  overflow: hidden;\n",
       "  text-align: left;\n",
       "  /* unfitted */\n",
       "  background-color: var(--sklearn-color-unfitted-level-0);\n",
       "}\n",
       "\n",
       "#sk-container-id-2 div.sk-toggleable__content.fitted {\n",
       "  /* fitted */\n",
       "  background-color: var(--sklearn-color-fitted-level-0);\n",
       "}\n",
       "\n",
       "#sk-container-id-2 div.sk-toggleable__content pre {\n",
       "  margin: 0.2em;\n",
       "  border-radius: 0.25em;\n",
       "  color: var(--sklearn-color-text);\n",
       "  /* unfitted */\n",
       "  background-color: var(--sklearn-color-unfitted-level-0);\n",
       "}\n",
       "\n",
       "#sk-container-id-2 div.sk-toggleable__content.fitted pre {\n",
       "  /* unfitted */\n",
       "  background-color: var(--sklearn-color-fitted-level-0);\n",
       "}\n",
       "\n",
       "#sk-container-id-2 input.sk-toggleable__control:checked~div.sk-toggleable__content {\n",
       "  /* Expand drop-down */\n",
       "  max-height: 200px;\n",
       "  max-width: 100%;\n",
       "  overflow: auto;\n",
       "}\n",
       "\n",
       "#sk-container-id-2 input.sk-toggleable__control:checked~label.sk-toggleable__label-arrow:before {\n",
       "  content: \"▾\";\n",
       "}\n",
       "\n",
       "/* Pipeline/ColumnTransformer-specific style */\n",
       "\n",
       "#sk-container-id-2 div.sk-label input.sk-toggleable__control:checked~label.sk-toggleable__label {\n",
       "  color: var(--sklearn-color-text);\n",
       "  background-color: var(--sklearn-color-unfitted-level-2);\n",
       "}\n",
       "\n",
       "#sk-container-id-2 div.sk-label.fitted input.sk-toggleable__control:checked~label.sk-toggleable__label {\n",
       "  background-color: var(--sklearn-color-fitted-level-2);\n",
       "}\n",
       "\n",
       "/* Estimator-specific style */\n",
       "\n",
       "/* Colorize estimator box */\n",
       "#sk-container-id-2 div.sk-estimator input.sk-toggleable__control:checked~label.sk-toggleable__label {\n",
       "  /* unfitted */\n",
       "  background-color: var(--sklearn-color-unfitted-level-2);\n",
       "}\n",
       "\n",
       "#sk-container-id-2 div.sk-estimator.fitted input.sk-toggleable__control:checked~label.sk-toggleable__label {\n",
       "  /* fitted */\n",
       "  background-color: var(--sklearn-color-fitted-level-2);\n",
       "}\n",
       "\n",
       "#sk-container-id-2 div.sk-label label.sk-toggleable__label,\n",
       "#sk-container-id-2 div.sk-label label {\n",
       "  /* The background is the default theme color */\n",
       "  color: var(--sklearn-color-text-on-default-background);\n",
       "}\n",
       "\n",
       "/* On hover, darken the color of the background */\n",
       "#sk-container-id-2 div.sk-label:hover label.sk-toggleable__label {\n",
       "  color: var(--sklearn-color-text);\n",
       "  background-color: var(--sklearn-color-unfitted-level-2);\n",
       "}\n",
       "\n",
       "/* Label box, darken color on hover, fitted */\n",
       "#sk-container-id-2 div.sk-label.fitted:hover label.sk-toggleable__label.fitted {\n",
       "  color: var(--sklearn-color-text);\n",
       "  background-color: var(--sklearn-color-fitted-level-2);\n",
       "}\n",
       "\n",
       "/* Estimator label */\n",
       "\n",
       "#sk-container-id-2 div.sk-label label {\n",
       "  font-family: monospace;\n",
       "  font-weight: bold;\n",
       "  display: inline-block;\n",
       "  line-height: 1.2em;\n",
       "}\n",
       "\n",
       "#sk-container-id-2 div.sk-label-container {\n",
       "  text-align: center;\n",
       "}\n",
       "\n",
       "/* Estimator-specific */\n",
       "#sk-container-id-2 div.sk-estimator {\n",
       "  font-family: monospace;\n",
       "  border: 1px dotted var(--sklearn-color-border-box);\n",
       "  border-radius: 0.25em;\n",
       "  box-sizing: border-box;\n",
       "  margin-bottom: 0.5em;\n",
       "  /* unfitted */\n",
       "  background-color: var(--sklearn-color-unfitted-level-0);\n",
       "}\n",
       "\n",
       "#sk-container-id-2 div.sk-estimator.fitted {\n",
       "  /* fitted */\n",
       "  background-color: var(--sklearn-color-fitted-level-0);\n",
       "}\n",
       "\n",
       "/* on hover */\n",
       "#sk-container-id-2 div.sk-estimator:hover {\n",
       "  /* unfitted */\n",
       "  background-color: var(--sklearn-color-unfitted-level-2);\n",
       "}\n",
       "\n",
       "#sk-container-id-2 div.sk-estimator.fitted:hover {\n",
       "  /* fitted */\n",
       "  background-color: var(--sklearn-color-fitted-level-2);\n",
       "}\n",
       "\n",
       "/* Specification for estimator info (e.g. \"i\" and \"?\") */\n",
       "\n",
       "/* Common style for \"i\" and \"?\" */\n",
       "\n",
       ".sk-estimator-doc-link,\n",
       "a:link.sk-estimator-doc-link,\n",
       "a:visited.sk-estimator-doc-link {\n",
       "  float: right;\n",
       "  font-size: smaller;\n",
       "  line-height: 1em;\n",
       "  font-family: monospace;\n",
       "  background-color: var(--sklearn-color-background);\n",
       "  border-radius: 1em;\n",
       "  height: 1em;\n",
       "  width: 1em;\n",
       "  text-decoration: none !important;\n",
       "  margin-left: 0.5em;\n",
       "  text-align: center;\n",
       "  /* unfitted */\n",
       "  border: var(--sklearn-color-unfitted-level-1) 1pt solid;\n",
       "  color: var(--sklearn-color-unfitted-level-1);\n",
       "}\n",
       "\n",
       ".sk-estimator-doc-link.fitted,\n",
       "a:link.sk-estimator-doc-link.fitted,\n",
       "a:visited.sk-estimator-doc-link.fitted {\n",
       "  /* fitted */\n",
       "  border: var(--sklearn-color-fitted-level-1) 1pt solid;\n",
       "  color: var(--sklearn-color-fitted-level-1);\n",
       "}\n",
       "\n",
       "/* On hover */\n",
       "div.sk-estimator:hover .sk-estimator-doc-link:hover,\n",
       ".sk-estimator-doc-link:hover,\n",
       "div.sk-label-container:hover .sk-estimator-doc-link:hover,\n",
       ".sk-estimator-doc-link:hover {\n",
       "  /* unfitted */\n",
       "  background-color: var(--sklearn-color-unfitted-level-3);\n",
       "  color: var(--sklearn-color-background);\n",
       "  text-decoration: none;\n",
       "}\n",
       "\n",
       "div.sk-estimator.fitted:hover .sk-estimator-doc-link.fitted:hover,\n",
       ".sk-estimator-doc-link.fitted:hover,\n",
       "div.sk-label-container:hover .sk-estimator-doc-link.fitted:hover,\n",
       ".sk-estimator-doc-link.fitted:hover {\n",
       "  /* fitted */\n",
       "  background-color: var(--sklearn-color-fitted-level-3);\n",
       "  color: var(--sklearn-color-background);\n",
       "  text-decoration: none;\n",
       "}\n",
       "\n",
       "/* Span, style for the box shown on hovering the info icon */\n",
       ".sk-estimator-doc-link span {\n",
       "  display: none;\n",
       "  z-index: 9999;\n",
       "  position: relative;\n",
       "  font-weight: normal;\n",
       "  right: .2ex;\n",
       "  padding: .5ex;\n",
       "  margin: .5ex;\n",
       "  width: min-content;\n",
       "  min-width: 20ex;\n",
       "  max-width: 50ex;\n",
       "  color: var(--sklearn-color-text);\n",
       "  box-shadow: 2pt 2pt 4pt #999;\n",
       "  /* unfitted */\n",
       "  background: var(--sklearn-color-unfitted-level-0);\n",
       "  border: .5pt solid var(--sklearn-color-unfitted-level-3);\n",
       "}\n",
       "\n",
       ".sk-estimator-doc-link.fitted span {\n",
       "  /* fitted */\n",
       "  background: var(--sklearn-color-fitted-level-0);\n",
       "  border: var(--sklearn-color-fitted-level-3);\n",
       "}\n",
       "\n",
       ".sk-estimator-doc-link:hover span {\n",
       "  display: block;\n",
       "}\n",
       "\n",
       "/* \"?\"-specific style due to the `<a>` HTML tag */\n",
       "\n",
       "#sk-container-id-2 a.estimator_doc_link {\n",
       "  float: right;\n",
       "  font-size: 1rem;\n",
       "  line-height: 1em;\n",
       "  font-family: monospace;\n",
       "  background-color: var(--sklearn-color-background);\n",
       "  border-radius: 1rem;\n",
       "  height: 1rem;\n",
       "  width: 1rem;\n",
       "  text-decoration: none;\n",
       "  /* unfitted */\n",
       "  color: var(--sklearn-color-unfitted-level-1);\n",
       "  border: var(--sklearn-color-unfitted-level-1) 1pt solid;\n",
       "}\n",
       "\n",
       "#sk-container-id-2 a.estimator_doc_link.fitted {\n",
       "  /* fitted */\n",
       "  border: var(--sklearn-color-fitted-level-1) 1pt solid;\n",
       "  color: var(--sklearn-color-fitted-level-1);\n",
       "}\n",
       "\n",
       "/* On hover */\n",
       "#sk-container-id-2 a.estimator_doc_link:hover {\n",
       "  /* unfitted */\n",
       "  background-color: var(--sklearn-color-unfitted-level-3);\n",
       "  color: var(--sklearn-color-background);\n",
       "  text-decoration: none;\n",
       "}\n",
       "\n",
       "#sk-container-id-2 a.estimator_doc_link.fitted:hover {\n",
       "  /* fitted */\n",
       "  background-color: var(--sklearn-color-fitted-level-3);\n",
       "}\n",
       "</style><div id=\"sk-container-id-2\" class=\"sk-top-container\"><div class=\"sk-text-repr-fallback\"><pre>LinearRegression()</pre><b>In a Jupyter environment, please rerun this cell to show the HTML representation or trust the notebook. <br />On GitHub, the HTML representation is unable to render, please try loading this page with nbviewer.org.</b></div><div class=\"sk-container\" hidden><div class=\"sk-item\"><div class=\"sk-estimator fitted sk-toggleable\"><input class=\"sk-toggleable__control sk-hidden--visually\" id=\"sk-estimator-id-2\" type=\"checkbox\" checked><label for=\"sk-estimator-id-2\" class=\"sk-toggleable__label fitted sk-toggleable__label-arrow\"><div><div>LinearRegression</div></div><div><a class=\"sk-estimator-doc-link fitted\" rel=\"noreferrer\" target=\"_blank\" href=\"https://scikit-learn.org/1.6/modules/generated/sklearn.linear_model.LinearRegression.html\">?<span>Documentation for LinearRegression</span></a><span class=\"sk-estimator-doc-link fitted\">i<span>Fitted</span></span></div></label><div class=\"sk-toggleable__content fitted\"><pre>LinearRegression()</pre></div> </div></div></div></div>"
      ],
      "text/plain": [
       "LinearRegression()"
      ]
     },
     "execution_count": 73,
     "metadata": {},
     "output_type": "execute_result"
    }
   ],
   "source": [
    "model = LinearRegression()   # 4. Training the Linear Regression Model by fitting the model using the training data\n",
    "model.fit(X_train, y_train)"
   ]
  },
  {
   "cell_type": "code",
   "execution_count": 60,
   "id": "57917d12-5a2c-4efd-9f3c-8a02c7d891a1",
   "metadata": {},
   "outputs": [
    {
     "name": "stdout",
     "output_type": "stream",
     "text": [
      "Regression Equation: y = 20242.34 + 939.96x\n"
     ]
    }
   ],
   "source": [
    "  # got the idea  from your notebook i.e 06 univariate linear regression and from asking stackoverflow\n",
    "coef = model.coef_[0]  # Coefficient                   \n",
    "intercept = model.intercept_  # Intercept\n",
    "\n",
    "print(f\"Regression Equation: y = {intercept:.2f} + {coef:.2f}x\")"
   ]
  },
  {
   "cell_type": "markdown",
   "id": "cbff5215-bf97-4dfd-bb69-732e2dc67a7d",
   "metadata": {},
   "source": [
    "# 3(d) Compute the Mean Absolute Error (MSE) from your model. (2 marks)"
   ]
  },
  {
   "cell_type": "code",
   "execution_count": 74,
   "id": "de7d1cdd-1c65-4c08-a48b-45b378f15126",
   "metadata": {},
   "outputs": [
    {
     "name": "stdout",
     "output_type": "stream",
     "text": [
      "R²: 0.03\n",
      "Mean Absolute Error: 36284.38\n"
     ]
    }
   ],
   "source": [
    " # got the idea  from your notebook i.e 06 univariate linear regression and from asking stackoverflow\n",
    "from sklearn.metrics import r2_score, mean_absolute_error\n",
    "\n",
    "y_pred = model.predict(X_test)\n",
    "r_squared = r2_score(y_test, y_pred)\n",
    "mae = mean_absolute_error(y_test, y_pred)\n",
    "\n",
    "print(f\"R²: {r_squared:.2f}\")\n",
    "print(f\"Mean Absolute Error: {mae:.2f}\")\n"
   ]
  },
  {
   "cell_type": "markdown",
   "id": "5c5bfa3d-344c-4923-96bb-9e3d3bb995ec",
   "metadata": {},
   "source": [
    "# 3(e) Extract and interprete the key outputs from a linear regression model (5 marks) "
   ]
  },
  {
   "cell_type": "code",
   "execution_count": 63,
   "id": "d4b2c4fa-d870-4a3d-bdd3-6a04deaf2dcf",
   "metadata": {},
   "outputs": [
    {
     "name": "stdout",
     "output_type": "stream",
     "text": [
      "R-squared: 0.03\n",
      "Coefficient (β1): 939.96\n",
      "Intercept (β0): 20242.34\n"
     ]
    }
   ],
   "source": [
    " # got the idea  from your notebook i.e univariate linear regression and from asking stackoverflow web\n",
    "r_squared = model.score(X_test, y_test)  # R-squared value\n",
    "print(f\"R-squared: {r_squared:.2f}\")\n",
    "print(f\"Coefficient (β1): {coef:.2f}\")\n",
    "print(f\"Intercept (β0): {intercept:.2f}\")"
   ]
  },
  {
   "cell_type": "markdown",
   "id": "e8438d0f-a5e9-4b5d-8869-fb3ae3325fda",
   "metadata": {},
   "source": [
    "# 3(f) Plot the linear regression model (5 marks)"
   ]
  },
  {
   "cell_type": "code",
   "execution_count": 64,
   "id": "48ee3ec0-0e4b-477b-93d5-ce70de496d81",
   "metadata": {},
   "outputs": [
    {
     "data": {
      "image/png": "[encoded data removed]",
      "text/plain": [
       "<Figure size 640x480 with 1 Axes>"
      ]
     },
     "metadata": {},
     "output_type": "display_data"
    }
   ],
   "source": [
    " # got the idea  from your notebook i.e 06 univariate linear regression and from asking stackoverflow\n",
    "plt.scatter(X_test, y_test, label='Observed census data', alpha=0.7)\n",
    "plt.plot(X_test, model.predict(X_test), color='red', label='Regression Line')\n",
    "plt.title('Linear Regression Model')\n",
    "plt.xlabel('X (Feature)')\n",
    "plt.ylabel('y (Target)')\n",
    "plt.legend()\n",
    "plt.show()\n"
   ]
  }
 ],
 "metadata": {
  "kernelspec": {
   "display_name": "Python 3 (ipykernel)",
   "language": "python",
   "name": "python3"
  },
  "language_info": {
   "codemirror_mode": {
    "name": "ipython",
    "version": 3
   },
   "file_extension": ".py",
   "mimetype": "text/x-python",
   "name": "python",
   "nbconvert_exporter": "python",
   "pygments_lexer": "ipython3",
   "version": "3.12.6"
  }
 },
 "nbformat": 4,
 "nbformat_minor": 5
}
